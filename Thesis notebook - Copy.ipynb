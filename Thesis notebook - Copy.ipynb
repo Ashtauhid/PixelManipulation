{
 "cells": [
  {
   "cell_type": "code",
   "execution_count": 1,
   "id": "7b78da68",
   "metadata": {},
   "outputs": [],
   "source": [
    "# Python Libraries\n",
    "%matplotlib inline\n",
    "import pickle\n",
    "import pandas as pd\n",
    "import numpy as np\n",
    "import matplotlib\n",
    "import matplotlib.pyplot as plt\n",
    "from keras.datasets import cifar10\n",
    "from keras import backend as K\n",
    "import cv2\n",
    "from scipy.ndimage import gaussian_filter\n",
    "\n",
    "# Custom Networks\n",
    "from networks.lenet import LeNet\n",
    "from networks.resnet import ResNet\n",
    "from networks.pure_cnn import PureCnn\n",
    "from networks.network_in_network import NetworkInNetwork\n",
    "from networks.densenet import DenseNet\n",
    "from networks.wide_resnet import WideResNet\n",
    "from networks.capsnet import CapsNet\n",
    "\n",
    "# Helper functions\n",
    "from differential_evolution import differential_evolution\n",
    "import helper\n",
    "\n",
    "matplotlib.style.use('ggplot')\n",
    "np.random.seed(100)"
   ]
  },
  {
   "cell_type": "code",
   "execution_count": 2,
   "id": "3105d363",
   "metadata": {},
   "outputs": [],
   "source": [
    "(x_train, y_train), (x_test, y_test) = cifar10.load_data()\n",
    "class_names = ['airplane', 'automobile', 'bird', 'cat', 'deer', 'dog', 'frog', 'horse', 'ship', 'truck']"
   ]
  },
  {
   "cell_type": "code",
   "execution_count": 3,
   "id": "d090643f",
   "metadata": {},
   "outputs": [
    {
     "name": "stdout",
     "output_type": "stream",
     "text": [
      "Successfully loaded lenet\n",
      "Successfully loaded resnet\n"
     ]
    }
   ],
   "source": [
    "# Custom Networks\n",
    "from networks.lenet import LeNet\n",
    "from networks.resnet import ResNet\n",
    "\n",
    "lenet = LeNet()\n",
    "resnet = ResNet()\n",
    "\n",
    "models = [lenet, resnet]\n",
    "\n",
    "# Uncomment below to load more models to play with. Make sure the model files exist by training or downloading them.\n",
    "\n",
    "# lenet = LeNet()\n",
    "# pure_cnn = PureCnn()\n",
    "# net_in_net = NetworkInNetwork()\n",
    "# resnet = ResNet()\n",
    "# densenet = DenseNet()\n",
    "# wide_resnet = WideResNet()\n",
    "# capsnet = CapsNet()\n",
    "\n",
    "# models = [lenet, pure_cnn, net_in_net, resnet, densenet, wide_resnet, capsnet]"
   ]
  },
  {
   "cell_type": "code",
   "execution_count": 4,
   "id": "7888d7e7",
   "metadata": {},
   "outputs": [
    {
     "name": "stdout",
     "output_type": "stream",
     "text": [
      "Evaluating lenet\n",
      "79/79 [==============================] - 0s 2ms/step\n",
      "Evaluating resnet\n",
      "79/79 [==============================] - 4s 39ms/step\n",
      "Index(['name', 'accuracy', 'param_count'], dtype='object')\n"
     ]
    },
    {
     "data": {
      "text/html": [
       "<div>\n",
       "<style scoped>\n",
       "    .dataframe tbody tr th:only-of-type {\n",
       "        vertical-align: middle;\n",
       "    }\n",
       "\n",
       "    .dataframe tbody tr th {\n",
       "        vertical-align: top;\n",
       "    }\n",
       "\n",
       "    .dataframe thead th {\n",
       "        text-align: right;\n",
       "    }\n",
       "</style>\n",
       "<table border=\"1\" class=\"dataframe\">\n",
       "  <thead>\n",
       "    <tr style=\"text-align: right;\">\n",
       "      <th></th>\n",
       "      <th>name</th>\n",
       "      <th>accuracy</th>\n",
       "      <th>param_count</th>\n",
       "    </tr>\n",
       "  </thead>\n",
       "  <tbody>\n",
       "    <tr>\n",
       "      <th>0</th>\n",
       "      <td>lenet</td>\n",
       "      <td>0.7488</td>\n",
       "      <td>62006</td>\n",
       "    </tr>\n",
       "    <tr>\n",
       "      <th>1</th>\n",
       "      <td>resnet</td>\n",
       "      <td>0.9231</td>\n",
       "      <td>470218</td>\n",
       "    </tr>\n",
       "  </tbody>\n",
       "</table>\n",
       "</div>"
      ],
      "text/plain": [
       "     name  accuracy  param_count\n",
       "0   lenet    0.7488        62006\n",
       "1  resnet    0.9231       470218"
      ]
     },
     "execution_count": 4,
     "metadata": {},
     "output_type": "execute_result"
    }
   ],
   "source": [
    "network_stats, correct_imgs = helper.evaluate_models(models, x_test, y_test)\n",
    "correct_imgs = pd.DataFrame(correct_imgs, columns=['name', 'img', 'label', 'confidence', 'pred'])\n",
    "network_stats = pd.DataFrame(network_stats, columns=['name', 'accuracy', 'param_count'])\n",
    "print(network_stats.columns)\n",
    "\n",
    "network_stats"
   ]
  },
  {
   "cell_type": "code",
   "execution_count": 58,
   "id": "f4a99a29",
   "metadata": {},
   "outputs": [],
   "source": [
    "def perturb_image(xs, img, sigma=0.7):\n",
    "    # If this function is passed just one perturbation vector,\n",
    "    # pack it in a list to keep the computation the same\n",
    "    if xs.ndim < 2:\n",
    "        xs = np.array([xs])\n",
    "\n",
    "    # Copy the image n == len(xs) times so that we can\n",
    "    # create n new perturbed images\n",
    "    tile = [len(xs)] + [1] * (xs.ndim + 1)\n",
    "    imgs = np.tile(img, tile)\n",
    "\n",
    "    # Make sure to floor the members of xs as int types\n",
    "    xs = xs.astype(int)\n",
    "\n",
    "    # Initialize an empty array to store the coordinates of the optimized pixels\n",
    "    optimized_pixels = np.zeros((len(xs), xs.shape[1] // 5, 2), dtype=int)\n",
    "\n",
    "    for i, (x, img) in enumerate(zip(xs, imgs)):\n",
    "        # Split x into an array of 5-tuples (perturbation pixels)\n",
    "        # i.e., [[x,y,r,g,b], ...]\n",
    "        pixels = np.split(x, len(x) // 5)\n",
    "        for j, pixel in enumerate(pixels):\n",
    "            # At each pixel's x,y position, assign its rgb value\n",
    "            x_pos, y_pos, *rgb = pixel\n",
    "            img[x_pos, y_pos] = rgb\n",
    "            # Store the coordinates of the optimized pixels\n",
    "            optimized_pixels[i, j] = [x_pos, y_pos]\n",
    "\n",
    "            # Apply a Gaussian filter around the perturbed pixel\n",
    "            # The filter size is determined by the sigma value\n",
    "#             x_min = max(0, x_pos - int(sigma * 1.5))\n",
    "#             x_max = min(img.shape[0], x_pos + int(sigma * 1.5) + 1)\n",
    "#             y_min = max(0, y_pos - int(sigma * 1.5))\n",
    "#             y_max = min(img.shape[1], y_pos + int(sigma * 1.5) + 1)\n",
    "            \n",
    "            x_min = max(0, x_pos - int(sigma * 3))\n",
    "            x_max = min(img.shape[0], x_pos + int(sigma * 3) + 1)\n",
    "            y_min = max(0, y_pos - int(sigma * 3))\n",
    "            y_max = min(img.shape[1], y_pos + int(sigma * 3) + 1)\n",
    "\n",
    "            img[x_min:x_max, y_min:y_max] = gaussian_filter(img[x_min:x_max, y_min:y_max], sigma=sigma)\n",
    "\n",
    "    return imgs, optimized_pixels\n"
   ]
  },
  {
   "cell_type": "code",
   "execution_count": 50,
   "id": "dd34e962",
   "metadata": {},
   "outputs": [],
   "source": [
    "def predict_classes(xs, img, target_class, model, minimize=True):\n",
    "    # Perturb the image with the given pixel(s) x and get the prediction of the model\n",
    "    imgs_perturbed = perturb_image(xs, img)\n",
    "    predictions = model.predict(imgs_perturbed[0])[:,target_class]\n",
    "    # This function should always be minimized, so return its complement if needed\n",
    "    return predictions if minimize else 1 - predictions"
   ]
  },
  {
   "cell_type": "code",
   "execution_count": 51,
   "id": "872b8c3f",
   "metadata": {},
   "outputs": [],
   "source": [
    "def attack_success(x, img, target_class, model, targeted_attack=False, verbose=False):\n",
    "    # Perturb the image with the given pixel(s) and get the prediction of the model\n",
    "    attack_image = perturb_image(x, img)\n",
    "\n",
    "    confidence = model.predict(attack_image[0])[0]\n",
    "    predicted_class = np.argmax(confidence)\n",
    "    \n",
    "    # If the prediction is what we want (misclassification or \n",
    "    # targeted classification), return True\n",
    "    if verbose:\n",
    "        print('Confidence:', confidence[target_class])\n",
    "    if ((targeted_attack and predicted_class == target_class) or\n",
    "        (not targeted_attack and predicted_class != target_class)):\n",
    "        return True\n",
    "    # NOTE: return None otherwise (not False), due to how Scipy handles its callback function"
   ]
  },
  {
   "cell_type": "code",
   "execution_count": 52,
   "id": "91f74f6d",
   "metadata": {},
   "outputs": [],
   "source": [
    "def average_color_neighborhood(img, x, y, neighborhood_size=1):\n",
    "    x_min = max(0, x - neighborhood_size)\n",
    "    x_max = min(img.shape[0], x + neighborhood_size + 1)\n",
    "    y_min = max(0, y - neighborhood_size)\n",
    "    y_max = min(img.shape[1], y + neighborhood_size + 1)\n",
    "\n",
    "    neighborhood = img[x_min:x_max, y_min:y_max]\n",
    "    return np.mean(neighborhood, axis=(0, 1))\n"
   ]
  },
  {
   "cell_type": "code",
   "execution_count": 53,
   "id": "9b95054c",
   "metadata": {},
   "outputs": [],
   "source": [
    "def attack(img_id, model, target=None, pixel_count=1, \n",
    "           maxiter=75, popsize=400, verbose=False):\n",
    "    # Change the target class based on whether this is a targeted attack or not\n",
    "    targeted_attack = target is not None\n",
    "    target_class = target if targeted_attack else y_test[img_id, 0]\n",
    "    \n",
    "    bounds = []\n",
    "    neighborhood_size = 1  # Define the size of the neighborhood (1 means directly neighboring pixels)\n",
    "    for _ in range(pixel_count):\n",
    "        bounds.extend([(0, 32), (0, 32)])\n",
    "        x, y = np.random.randint(0, 32, size=2)  # Randomly choose a pixel location\n",
    "        avg_color = average_color_neighborhood(x_test[img_id], x, y, neighborhood_size)\n",
    "        color_bounds = [(max(0, color - 10), min(255, color + 10)) for color in avg_color]  # Adjust color range here\n",
    "        bounds.extend(color_bounds)\n",
    "    \n",
    "    \n",
    "    # Population multiplier, in terms of the size of the perturbation vector x\n",
    "    popmul = max(1, popsize // len(bounds))\n",
    "    \n",
    "    # Format the predict/callback functions for the differential evolution algorithm\n",
    "    def predict_fn(xs):\n",
    "        return predict_classes(xs, x_test[img_id], target_class, \n",
    "                               model, target is None)\n",
    "    \n",
    "    def callback_fn(x, convergence):\n",
    "        return attack_success(x, x_test[img_id], target_class, \n",
    "                              model, targeted_attack, verbose)\n",
    "    \n",
    "    # Call Scipy's Implementation of Differential Evolution\n",
    "    attack_result = differential_evolution(\n",
    "        predict_fn, bounds, maxiter=maxiter, popsize=popmul,\n",
    "        recombination=1, atol=-1, callback=callback_fn, polish=False)\n",
    "\n",
    "    # Calculate some useful statistics to return from this function\n",
    "    attack_image = perturb_image(attack_result.x, x_test[img_id])[0]\n",
    "    attack_image_smoothed = gaussian_filter(attack_image, sigma=0.1)\n",
    "    prior_probs = model.predict_one(x_test[img_id])\n",
    "    predicted_probs = model.predict_one(attack_image)\n",
    "    predicted_class = np.argmax(predicted_probs)\n",
    "    actual_class = y_test[img_id, 0]\n",
    "    success = predicted_class != actual_class\n",
    "    cdiff = prior_probs[actual_class] - predicted_probs[actual_class]\n",
    "\n",
    "    perturb_pixels = perturb_image(attack_result.x, x_test[img_id])[1]\n",
    "    \n",
    "    helper.plot_image(attack_image_smoothed, actual_class, class_names, predicted_class)\n",
    "    \n",
    "    return [model.name, pixel_count, img_id, actual_class, predicted_class,\n",
    "            success, cdiff, prior_probs, predicted_probs, attack_result.x, attack_image_smoothed]"
   ]
  },
  {
   "cell_type": "code",
   "execution_count": 59,
   "id": "3da0b7bd",
   "metadata": {},
   "outputs": [
    {
     "name": "stdout",
     "output_type": "stream",
     "text": [
      "4/4 [==============================] - 0s 2ms/step\n",
      "4/4 [==============================] - 0s 2ms/step\n",
      "1/1 [==============================] - 0s 19ms/step\n",
      "Confidence: 0.09369888\n",
      "1/1 [==============================] - 0s 19ms/step\n",
      "1/1 [==============================] - 0s 19ms/step\n"
     ]
    },
    {
     "data": {
      "image/png": "[encoded data removed]",
      "text/plain": [
       "<Figure size 640x480 with 1 Axes>"
      ]
     },
     "metadata": {},
     "output_type": "display_data"
    },
    {
     "data": {
      "image/png": "[encoded data removed]",
      "text/plain": [
       "<Figure size 640x480 with 1 Axes>"
      ]
     },
     "metadata": {},
     "output_type": "display_data"
    }
   ],
   "source": [
    "# No: 1, 3: Calculate the confidence values\n",
    "# Yes: 118, 169, 2978, 658, 1001, 1116\n",
    "# 1, 2, 3, 4, 5, 7, 10, 15, 20\n",
    "\n",
    "image_id = 1297\n",
    "pixels = 1 # Number of pixels to attack\n",
    "model = lenet\n",
    "\n",
    "_ = attack(image_id, model, pixel_count=pixels, verbose=True)\n",
    "\n",
    "attack_image = _[10]\n",
    "attack_image = np.reshape(attack_image, (32, 32, 3))\n",
    "\n",
    "plt.imshow(attack_image-x_test[image_id])\n",
    "# plt.imshow(x_test[image_id])\n",
    "plt.gca().set_axis_off()\n",
    "plt.grid(False)"
   ]
  },
  {
   "cell_type": "code",
   "execution_count": null,
   "id": "463f62ea",
   "metadata": {},
   "outputs": [],
   "source": [
    "# def attack_all(models, samples=500, pixels=(1,5,10,20), targeted=False, \n",
    "#                maxiter=75, popsize=400, verbose=False):\n",
    "#     results = []\n",
    "#     for model in models:\n",
    "#         model_results = []\n",
    "#         valid_imgs = correct_imgs[correct_imgs.name == model.name].img\n",
    "#         img_samples = np.random.choice(valid_imgs, samples, replace=False)\n",
    "        \n",
    "#         for pixel_count in pixels:\n",
    "#             for i, img_id in enumerate(img_samples):\n",
    "#                 print('\\n', model.name, '- image', img_id, '-', i+1, '/', len(img_samples))\n",
    "#                 targets = [None] if not targeted else range(10)\n",
    "                \n",
    "#                 for target in targets:\n",
    "#                     if targeted:\n",
    "#                         print('Attacking with target', class_names[target])\n",
    "#                         if target == y_test[img_id, 0]:\n",
    "#                             continue\n",
    "#                     result = attack(img_id, model, target, pixel_count, \n",
    "#                                     maxiter=maxiter, popsize=popsize, \n",
    "#                                     verbose=verbose)\n",
    "#                     model_results.append(result)\n",
    "                    \n",
    "#         results += model_results\n",
    "#         helper.checkpoint(results, targeted)\n",
    "#     return results"
   ]
  },
  {
   "cell_type": "code",
   "execution_count": null,
   "id": "70b55999",
   "metadata": {},
   "outputs": [],
   "source": [
    "# untargeted = attack_all(models, samples=90, targeted=False)"
   ]
  },
  {
   "cell_type": "code",
   "execution_count": null,
   "id": "ec1dc01d",
   "metadata": {},
   "outputs": [],
   "source": [
    "# # Find the number of columns in the first row of the data\n",
    "# num_columns = len(untargeted[0])\n",
    "\n",
    "# # Create a list of column names\n",
    "# columns = ['model', 'pixels', 'image', 'true', 'predicted', 'success', 'cdiff', 'prior_probs', 'predicted_probs', 'perturbation']\n",
    "\n",
    "# # If the number of columns in the data is greater than the length of the `columns` list, add 'extra_column_i' for each extra column\n",
    "# for i in range(len(columns), num_columns):\n",
    "#     columns.append(f'extra_column_{i}')\n",
    "\n",
    "# # Create the DataFrame with the updated `columns` list\n",
    "# untargeted_results = pd.DataFrame(untargeted, columns=columns)"
   ]
  },
  {
   "cell_type": "code",
   "execution_count": null,
   "id": "2d2201f6",
   "metadata": {},
   "outputs": [],
   "source": [
    "# helper.attack_stats(untargeted_results, models, network_stats)"
   ]
  }
 ],
 "metadata": {
  "kernelspec": {
   "display_name": "Python 3 (ipykernel)",
   "language": "python",
   "name": "python3"
  },
  "language_info": {
   "codemirror_mode": {
    "name": "ipython",
    "version": 3
   },
   "file_extension": ".py",
   "mimetype": "text/x-python",
   "name": "python",
   "nbconvert_exporter": "python",
   "pygments_lexer": "ipython3",
   "version": "3.10.9"
  }
 },
 "nbformat": 4,
 "nbformat_minor": 5
}
